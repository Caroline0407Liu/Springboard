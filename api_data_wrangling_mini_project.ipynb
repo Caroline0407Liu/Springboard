{
 "cells": [
  {
   "cell_type": "markdown",
   "metadata": {},
   "source": [
    "This exercise will require you to pull some data from the Qunadl API. Qaundl is currently the most widely used aggregator of financial market data."
   ]
  },
  {
   "cell_type": "markdown",
   "metadata": {},
   "source": [
    "As a first step, you will need to register a free account on the http://www.quandl.com website."
   ]
  },
  {
   "cell_type": "markdown",
   "metadata": {},
   "source": [
    "After you register, you will be provided with a unique API key, that you should store:"
   ]
  },
  {
   "cell_type": "code",
   "execution_count": 1,
   "metadata": {},
   "outputs": [],
   "source": [
    "# Store the API key as a string - according to PEP8, constants are always named in all upper case\n",
    "API_KEY = ''"
   ]
  },
  {
   "cell_type": "markdown",
   "metadata": {},
   "source": [
    "Qaundl has a large number of data sources, but, unfortunately, most of them require a Premium subscription. Still, there are also a good number of free datasets."
   ]
  },
  {
   "cell_type": "markdown",
   "metadata": {},
   "source": [
    "For this mini project, we will focus on equities data from the Frankfurt Stock Exhange (FSE), which is available for free. We'll try and analyze the stock prices of a company called Carl Zeiss Meditec, which manufactures tools for eye examinations, as well as medical lasers for laser eye surgery: https://www.zeiss.com/meditec/int/home.html. The company is listed under the stock ticker AFX_X."
   ]
  },
  {
   "cell_type": "markdown",
   "metadata": {},
   "source": [
    "You can find the detailed Quandl API instructions here: https://docs.quandl.com/docs/time-series"
   ]
  },
  {
   "cell_type": "markdown",
   "metadata": {},
   "source": [
    "While there is a dedicated Python package for connecting to the Quandl API, we would prefer that you use the *requests* package, which can be easily downloaded using *pip* or *conda*. You can find the documentation for the package here: http://docs.python-requests.org/en/master/ "
   ]
  },
  {
   "cell_type": "markdown",
   "metadata": {},
   "source": [
    "Finally, apart from the *requests* package, you are encouraged to not use any third party Python packages, such as *pandas*, and instead focus on what's available in the Python Standard Library (the *collections* module might come in handy: https://pymotw.com/3/collections/ ).\n",
    "Also, since you won't have access to DataFrames, you are encouraged to us Python's native data structures - preferably dictionaries, though some questions can also be answered using lists.\n",
    "You can read more on these data structures here: https://docs.python.org/3/tutorial/datastructures.html"
   ]
  },
  {
   "cell_type": "markdown",
   "metadata": {},
   "source": [
    "Keep in mind that the JSON responses you will be getting from the API map almost one-to-one to Python's dictionaries. Unfortunately, they can be very nested, so make sure you read up on indexing dictionaries in the documentation provided above."
   ]
  },
  {
   "cell_type": "code",
   "execution_count": 2,
   "metadata": {},
   "outputs": [
    {
     "name": "stdout",
     "output_type": "stream",
     "text": [
      "Requirement already satisfied: Quandl in /Users/carolineliu/opt/anaconda3/lib/python3.7/site-packages (3.6.1)\n",
      "Requirement already satisfied: inflection>=0.3.1 in /Users/carolineliu/opt/anaconda3/lib/python3.7/site-packages (from Quandl) (0.5.1)\n",
      "Requirement already satisfied: pandas>=0.14 in /Users/carolineliu/opt/anaconda3/lib/python3.7/site-packages (from Quandl) (1.0.1)\n",
      "Requirement already satisfied: requests>=2.7.0 in /Users/carolineliu/opt/anaconda3/lib/python3.7/site-packages (from Quandl) (2.22.0)\n",
      "Requirement already satisfied: python-dateutil in /Users/carolineliu/opt/anaconda3/lib/python3.7/site-packages (from Quandl) (2.8.1)\n",
      "Requirement already satisfied: six in /Users/carolineliu/opt/anaconda3/lib/python3.7/site-packages (from Quandl) (1.14.0)\n",
      "Requirement already satisfied: numpy>=1.8 in /Users/carolineliu/opt/anaconda3/lib/python3.7/site-packages (from Quandl) (1.18.1)\n",
      "Requirement already satisfied: more-itertools in /Users/carolineliu/opt/anaconda3/lib/python3.7/site-packages (from Quandl) (8.2.0)\n",
      "Requirement already satisfied: pytz>=2017.2 in /Users/carolineliu/opt/anaconda3/lib/python3.7/site-packages (from pandas>=0.14->Quandl) (2019.3)\n",
      "Requirement already satisfied: chardet<3.1.0,>=3.0.2 in /Users/carolineliu/opt/anaconda3/lib/python3.7/site-packages (from requests>=2.7.0->Quandl) (3.0.4)\n",
      "Requirement already satisfied: idna<2.9,>=2.5 in /Users/carolineliu/opt/anaconda3/lib/python3.7/site-packages (from requests>=2.7.0->Quandl) (2.8)\n",
      "Requirement already satisfied: urllib3!=1.25.0,!=1.25.1,<1.26,>=1.21.1 in /Users/carolineliu/opt/anaconda3/lib/python3.7/site-packages (from requests>=2.7.0->Quandl) (1.25.8)\n",
      "Requirement already satisfied: certifi>=2017.4.17 in /Users/carolineliu/opt/anaconda3/lib/python3.7/site-packages (from requests>=2.7.0->Quandl) (2019.11.28)\n",
      "\u001b[33mWARNING: You are using pip version 20.1.1; however, version 21.0.1 is available.\n",
      "You should consider upgrading via the '/Users/carolineliu/opt/anaconda3/bin/python -m pip install --upgrade pip' command.\u001b[0m\n",
      "Note: you may need to restart the kernel to use updated packages.\n"
     ]
    }
   ],
   "source": [
    "pip install Quandl"
   ]
  },
  {
   "cell_type": "code",
   "execution_count": 3,
   "metadata": {},
   "outputs": [],
   "source": [
    "import quandl\n",
    "import json"
   ]
  },
  {
   "cell_type": "code",
   "execution_count": 4,
   "metadata": {},
   "outputs": [],
   "source": [
    "quandl.ApiConfig.api_key = API_KEY"
   ]
  },
  {
   "cell_type": "code",
   "execution_count": 5,
   "metadata": {},
   "outputs": [],
   "source": [
    "# Now, call the Quandl API and pull out a small sample of the data (only one day) to get a glimpse\n",
    "# into the JSON structure that will be returned\n",
    "glimpse = quandl.get('FSE/AFX_X', start_date='2017-01-01', end_date='2017-01-02', returns='json')"
   ]
  },
  {
   "cell_type": "code",
   "execution_count": 6,
   "metadata": {},
   "outputs": [
    {
     "data": {
      "text/html": [
       "<div>\n",
       "<style scoped>\n",
       "    .dataframe tbody tr th:only-of-type {\n",
       "        vertical-align: middle;\n",
       "    }\n",
       "\n",
       "    .dataframe tbody tr th {\n",
       "        vertical-align: top;\n",
       "    }\n",
       "\n",
       "    .dataframe thead th {\n",
       "        text-align: right;\n",
       "    }\n",
       "</style>\n",
       "<table border=\"1\" class=\"dataframe\">\n",
       "  <thead>\n",
       "    <tr style=\"text-align: right;\">\n",
       "      <th></th>\n",
       "      <th>Open</th>\n",
       "      <th>High</th>\n",
       "      <th>Low</th>\n",
       "      <th>Close</th>\n",
       "      <th>Change</th>\n",
       "      <th>Traded Volume</th>\n",
       "      <th>Turnover</th>\n",
       "      <th>Last Price of the Day</th>\n",
       "      <th>Daily Traded Units</th>\n",
       "      <th>Daily Turnover</th>\n",
       "    </tr>\n",
       "    <tr>\n",
       "      <th>Date</th>\n",
       "      <th></th>\n",
       "      <th></th>\n",
       "      <th></th>\n",
       "      <th></th>\n",
       "      <th></th>\n",
       "      <th></th>\n",
       "      <th></th>\n",
       "      <th></th>\n",
       "      <th></th>\n",
       "      <th></th>\n",
       "    </tr>\n",
       "  </thead>\n",
       "  <tbody>\n",
       "    <tr>\n",
       "      <th>2017-01-02</th>\n",
       "      <td>34.99</td>\n",
       "      <td>35.94</td>\n",
       "      <td>34.99</td>\n",
       "      <td>35.8</td>\n",
       "      <td>None</td>\n",
       "      <td>44700.0</td>\n",
       "      <td>1590561.0</td>\n",
       "      <td>None</td>\n",
       "      <td>None</td>\n",
       "      <td>None</td>\n",
       "    </tr>\n",
       "  </tbody>\n",
       "</table>\n",
       "</div>"
      ],
      "text/plain": [
       "             Open   High    Low  Close Change  Traded Volume   Turnover  \\\n",
       "Date                                                                      \n",
       "2017-01-02  34.99  35.94  34.99   35.8   None        44700.0  1590561.0   \n",
       "\n",
       "           Last Price of the Day Daily Traded Units Daily Turnover  \n",
       "Date                                                                \n",
       "2017-01-02                  None               None           None  "
      ]
     },
     "execution_count": 6,
     "metadata": {},
     "output_type": "execute_result"
    }
   ],
   "source": [
    "# Inspect the JSON structure of the object you created, and take note of how nested it is,\n",
    "# as well as the overall structure\n",
    "glimpse"
   ]
  },
  {
   "cell_type": "markdown",
   "metadata": {},
   "source": [
    "These are your tasks for this mini project:\n",
    "\n",
    "1. Collect data from the Franfurt Stock Exchange, for the ticker AFX_X, for the whole year 2017 (keep in mind that the date format is YYYY-MM-DD).\n",
    "2. Convert the returned JSON object into a Python dictionary.\n",
    "3. Calculate what the highest and lowest opening prices were for the stock in this period.\n",
    "4. What was the largest change in any one day (based on High and Low price)?\n",
    "5. What was the largest change between any two days (based on Closing Price)?\n",
    "6. What was the average daily trading volume during this year?\n",
    "7. (Optional) What was the median trading volume during this year. (Note: you may need to implement your own function for calculating the median.)"
   ]
  },
  {
   "cell_type": "markdown",
   "metadata": {},
   "source": [
    "# Q1. Collect data from the Franfurt Stock Exchange, for the ticker AFX_X, for the whole year 2017 \n",
    "(keep in mind that the date format is YYYY-MM-DD)."
   ]
  },
  {
   "cell_type": "code",
   "execution_count": 7,
   "metadata": {},
   "outputs": [],
   "source": [
    "import requests\n",
    "import numpy as np"
   ]
  },
  {
   "cell_type": "code",
   "execution_count": 8,
   "metadata": {},
   "outputs": [],
   "source": [
    "url =  \"https://www.quandl.com/api/v3/datasets/FSE/AFX_X.json?start_date=2017-01-01&end_date=2017-12-31&api_key=\"\n",
    "r = requests.get(url)\n",
    "json_data = r.json()\n"
   ]
  },
  {
   "cell_type": "code",
   "execution_count": 9,
   "metadata": {},
   "outputs": [],
   "source": [
    "dict_data=json_data['dataset']"
   ]
  },
  {
   "cell_type": "code",
   "execution_count": 10,
   "metadata": {},
   "outputs": [],
   "source": [
    "dict_key = dict_data['column_names']"
   ]
  },
  {
   "cell_type": "code",
   "execution_count": 11,
   "metadata": {},
   "outputs": [],
   "source": [
    "dict_values = dict_data['data']"
   ]
  },
  {
   "cell_type": "code",
   "execution_count": 12,
   "metadata": {},
   "outputs": [
    {
     "data": {
      "text/plain": [
       "255"
      ]
     },
     "execution_count": 12,
     "metadata": {},
     "output_type": "execute_result"
    }
   ],
   "source": [
    "len(dict_values)"
   ]
  },
  {
   "cell_type": "markdown",
   "metadata": {},
   "source": [
    "# Q2. Convert the returned JSON object into a Python dictionary."
   ]
  },
  {
   "cell_type": "code",
   "execution_count": 13,
   "metadata": {},
   "outputs": [],
   "source": [
    "AFX_dict = {}"
   ]
  },
  {
   "cell_type": "code",
   "execution_count": 17,
   "metadata": {},
   "outputs": [],
   "source": [
    "for i in range(len(dict_key)):\n",
    "    for j in range(len(dict_values)):\n",
    "        if dict_key[i] in AFX_dict:\n",
    "            list(AFX_dict[dict_key[i]])\n",
    "            AFX_dict[dict_key[i]].append(dict_values[j][i])\n",
    "        else:\n",
    "            AFX_dict[dict_key[i]] = dict_values[j][i]"
   ]
  },
  {
   "cell_type": "markdown",
   "metadata": {},
   "source": [
    "# Q3. Calculate what the highest and lowest opening prices were for the stock in this period."
   ]
  },
  {
   "cell_type": "code",
   "execution_count": 19,
   "metadata": {},
   "outputs": [],
   "source": [
    "open_price = AFX_dict['Open'][1:].copy()"
   ]
  },
  {
   "cell_type": "code",
   "execution_count": 20,
   "metadata": {},
   "outputs": [],
   "source": [
    "open_price = [x for x in open_price if x is not None]"
   ]
  },
  {
   "cell_type": "code",
   "execution_count": 21,
   "metadata": {},
   "outputs": [
    {
     "data": {
      "text/plain": [
       "(53.11, 34.0)"
      ]
     },
     "execution_count": 21,
     "metadata": {},
     "output_type": "execute_result"
    }
   ],
   "source": [
    "max(open_price), min(open_price)"
   ]
  },
  {
   "cell_type": "code",
   "execution_count": 22,
   "metadata": {},
   "outputs": [
    {
     "name": "stdout",
     "output_type": "stream",
     "text": [
      "Q3 answer:\n",
      "2017-12-14's opening price is 53.11, it's the highest opening price for the stock in this period.\n",
      "2017-01-24's opening price is 34.0, it's the lowest opening price for the stock in this period.\n"
     ]
    }
   ],
   "source": [
    "for i in range(len(dict_values)):\n",
    "    if dict_values[i][1] == max(open_price):\n",
    "        print('Q3 answer:')\n",
    "        print(dict_values[i][0]+\"'s opening price is {}, it's the highest opening price for the stock in this period.\".format(max(open_price)))\n",
    "    elif dict_values[i][1] == min(open_price):\n",
    "        print(dict_values[i][0]+\"'s opening price is {}, it's the lowest opening price for the stock in this period.\".format(min(open_price)))\n"
   ]
  },
  {
   "cell_type": "markdown",
   "metadata": {},
   "source": [
    "# Q4. What was the largest change in any one day (based on High and Low price)?"
   ]
  },
  {
   "cell_type": "code",
   "execution_count": 23,
   "metadata": {},
   "outputs": [],
   "source": [
    "High = AFX_dict['High'][1:].copy()\n",
    "Low = AFX_dict['Low'][1:].copy()"
   ]
  },
  {
   "cell_type": "code",
   "execution_count": 24,
   "metadata": {},
   "outputs": [],
   "source": [
    "change = []\n",
    "for i in range(len(High)):\n",
    "    change.append(High[i]-Low[i])"
   ]
  },
  {
   "cell_type": "code",
   "execution_count": 25,
   "metadata": {},
   "outputs": [
    {
     "data": {
      "text/plain": [
       "2.8100000000000023"
      ]
     },
     "execution_count": 25,
     "metadata": {},
     "output_type": "execute_result"
    }
   ],
   "source": [
    "max(change)"
   ]
  },
  {
   "cell_type": "code",
   "execution_count": 26,
   "metadata": {},
   "outputs": [
    {
     "name": "stdout",
     "output_type": "stream",
     "text": [
      "Q4 answer: The stock has the largest change of the price $2.81 on 2017-05-11\n"
     ]
    }
   ],
   "source": [
    "for i in range(len(dict_values)):\n",
    "    if dict_values[i][2] - dict_values[i][3] == max(change):\n",
    "        print(\"Q4 answer: The stock has the largest change of the price ${:.2f} on {}\".format(max(change),dict_values[i][0]))"
   ]
  },
  {
   "cell_type": "markdown",
   "metadata": {},
   "source": [
    "# Q5. What was the largest change between any two days (based on Closing Price)?"
   ]
  },
  {
   "cell_type": "code",
   "execution_count": 27,
   "metadata": {},
   "outputs": [],
   "source": [
    "Close = AFX_dict['Close'][1:].copy()"
   ]
  },
  {
   "cell_type": "code",
   "execution_count": 28,
   "metadata": {},
   "outputs": [],
   "source": [
    "daily_change = []\n",
    "for i in range(len(Close)):\n",
    "    daily_change.append(Close[i] - Close[i-1])"
   ]
  },
  {
   "cell_type": "code",
   "execution_count": 29,
   "metadata": {},
   "outputs": [],
   "source": [
    "daily_change=daily_change[1:]"
   ]
  },
  {
   "cell_type": "code",
   "execution_count": 30,
   "metadata": {},
   "outputs": [
    {
     "name": "stdout",
     "output_type": "stream",
     "text": [
      "Q5 answer: The change of closing price between 2017-08-08 and 2017-08-09 is the largest, $2.56\n"
     ]
    }
   ],
   "source": [
    "for i in range(len(dict_values)):\n",
    "    if dict_values[i][4] - dict_values[i-1][4] == max(daily_change):\n",
    "        print('Q5 answer: The change of closing price between {} and {} is the largest, ${:.2f}'.format(dict_values[i][0], dict_values[i-1][0], max(daily_change)))"
   ]
  },
  {
   "cell_type": "markdown",
   "metadata": {},
   "source": [
    "# Q6. What was the average daily trading volume during this year?"
   ]
  },
  {
   "cell_type": "code",
   "execution_count": 31,
   "metadata": {},
   "outputs": [
    {
     "data": {
      "text/plain": [
       "['Date',\n",
       " 'Open',\n",
       " 'High',\n",
       " 'Low',\n",
       " 'Close',\n",
       " 'Change',\n",
       " 'Traded Volume',\n",
       " 'Turnover',\n",
       " 'Last Price of the Day',\n",
       " 'Daily Traded Units',\n",
       " 'Daily Turnover']"
      ]
     },
     "execution_count": 31,
     "metadata": {},
     "output_type": "execute_result"
    }
   ],
   "source": [
    "dict_key"
   ]
  },
  {
   "cell_type": "code",
   "execution_count": 32,
   "metadata": {},
   "outputs": [],
   "source": [
    "volume = AFX_dict['Traded Volume'][1:].copy()"
   ]
  },
  {
   "cell_type": "code",
   "execution_count": 33,
   "metadata": {},
   "outputs": [
    {
     "name": "stdout",
     "output_type": "stream",
     "text": [
      "Q6 answer: The average daily trading volume during 2017 is $89124.34\n"
     ]
    }
   ],
   "source": [
    "avg_volume = sum(volume) / len(volume)\n",
    "print('Q6 answer: The average daily trading volume during 2017 is ${:.2f}'.format(avg_volume))"
   ]
  },
  {
   "cell_type": "markdown",
   "metadata": {},
   "source": [
    "# Q7. What was the median trading volume during this year. \n",
    "(Note: you may need to implement your own function for calculating the median.)"
   ]
  },
  {
   "cell_type": "code",
   "execution_count": 34,
   "metadata": {},
   "outputs": [],
   "source": [
    "def median(data):\n",
    "    data.sort()\n",
    "    if len(data)%2 == 0:\n",
    "        i = int(len(data)/2)\n",
    "        median = (data[i] + data[i+1]) / 2\n",
    "    else:\n",
    "        i = int((len(data)+1)/2)\n",
    "        median = data[i]\n",
    "    return median\n",
    "    "
   ]
  },
  {
   "cell_type": "code",
   "execution_count": 36,
   "metadata": {},
   "outputs": [
    {
     "name": "stdout",
     "output_type": "stream",
     "text": [
      "Q7 answer: The median trading volume during 2017 is $76600.00\n"
     ]
    }
   ],
   "source": [
    "med_vol = median(volume)\n",
    "print('Q7 answer: The median trading volume during 2017 is ${:.2f}'.format(med_vol))"
   ]
  }
 ],
 "metadata": {
  "kernelspec": {
   "display_name": "Python 3",
   "language": "python",
   "name": "python3"
  },
  "language_info": {
   "codemirror_mode": {
    "name": "ipython",
    "version": 3
   },
   "file_extension": ".py",
   "mimetype": "text/x-python",
   "name": "python",
   "nbconvert_exporter": "python",
   "pygments_lexer": "ipython3",
   "version": "3.7.6"
  }
 },
 "nbformat": 4,
 "nbformat_minor": 2
}
